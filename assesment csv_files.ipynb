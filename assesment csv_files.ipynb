{
 "cells": [
  {
   "cell_type": "code",
   "execution_count": 2,
   "id": "3c3a1c9b",
   "metadata": {},
   "outputs": [
    {
     "name": "stdout",
     "output_type": "stream",
     "text": [
      "Resultant csv after joining all csv files in a paricular location \n",
      "                   Name  python  mysql  Previous Geekions  CodeKata Score  \\\n",
      "0             A.Dharani    82.0   20.0              24500           24500   \n",
      "1           V.JEEVITHA     82.0   20.0              21740           21740   \n",
      "2           HEMAVATHI.R   100.0  100.0              19680           19680   \n",
      "3           Mugunthan S   100.0   47.0              10610           10610   \n",
      "4           Sathammai.S   100.0    8.0               8980            8980   \n",
      "5          NIVEESHWAR S   100.0    0.0               8200            8200   \n",
      "6         KALAIARASAN K    85.0   47.0               7750            7880   \n",
      "7  MOHAMED ZUBAIR AHMED    82.0    4.0               7020            7020   \n",
      "8            J.SUGANTHI    27.0   50.0               5860            5860   \n",
      "9          thamizhpaana    29.0    0.0               5500            5500   \n",
      "\n",
      "                                  Department  Rising  python_en  \\\n",
      "0           Computer Science and Engineering       0        NaN   \n",
      "1           Computer Science and Engineering       0        NaN   \n",
      "2           Computer Science and Engineering       0        NaN   \n",
      "3           Computer Science and Engineering       0        NaN   \n",
      "4           Computer Science and Engineering       0        NaN   \n",
      "5           Computer Science and Engineering       0        NaN   \n",
      "6  Electronics and Communication Engineering     130        NaN   \n",
      "7           Computer Science and Engineering       0        NaN   \n",
      "8  Electronics and Communication Engineering       0        NaN   \n",
      "9           Computer Science and Engineering       0        NaN   \n",
      "\n",
      "   computational_thinking  \n",
      "0                     NaN  \n",
      "1                     NaN  \n",
      "2                     NaN  \n",
      "3                     NaN  \n",
      "4                     NaN  \n",
      "5                     NaN  \n",
      "6                     NaN  \n",
      "7                     NaN  \n",
      "8                     NaN  \n",
      "9                     NaN  \n"
     ]
    }
   ],
   "source": [
    "# merge two csv files in to a single dataframe\n",
    "import pandas as pd \n",
    "import os\n",
    "import glob\n",
    "files=os.path.join(\"college_*.csv\")\n",
    "files=glob.glob(files)\n",
    "\n",
    "print(\"Resultant csv after joining all csv files in a paricular location \")\n",
    "df=pd.concat(map(pd.read_csv,files),ignore_index=True)\n",
    "print(df.head(10))\n"
   ]
  },
  {
   "cell_type": "code",
   "execution_count": 9,
   "id": "eb01a536",
   "metadata": {},
   "outputs": [
    {
     "name": "stdout",
     "output_type": "stream",
     "text": [
      "             Name  python  mysql  Previous Geekions  CodeKata Score  \\\n",
      "0       A.Dharani    82.0   20.0              24500           24500   \n",
      "1     V.JEEVITHA     82.0   20.0              21740           21740   \n",
      "2     HEMAVATHI.R   100.0  100.0              19680           19680   \n",
      "84  ASHOK KUMAR K   100.0   31.0              19400           19400   \n",
      "\n",
      "                                Department  Rising  python_en  \\\n",
      "0         Computer Science and Engineering       0        NaN   \n",
      "1         Computer Science and Engineering       0        NaN   \n",
      "2         Computer Science and Engineering       0        NaN   \n",
      "84  Electronics and Electrical Engineering       0        0.0   \n",
      "\n",
      "    computational_thinking  \n",
      "0                      NaN  \n",
      "1                      NaN  \n",
      "2                      NaN  \n",
      "84                     9.0  \n"
     ]
    }
   ],
   "source": [
    "#Take each csv file , split that csv file into multiple categories (example csv files are added in the repo)\n",
    "#consider if the codekata score exceeds 15000 points(present week) then make a csv on those observations as Exceeded expectations.csv\n",
    "df1=df[df['CodeKata Score']>15000]\n",
    "print(df1)"
   ]
  },
  {
   "cell_type": "code",
   "execution_count": 12,
   "id": "93d33266",
   "metadata": {},
   "outputs": [],
   "source": [
    "df1.to_csv('Exceeded expectations.csv',index=False)"
   ]
  },
  {
   "cell_type": "code",
   "execution_count": 25,
   "id": "467b7c79",
   "metadata": {},
   "outputs": [
    {
     "name": "stdout",
     "output_type": "stream",
     "text": [
      "                 Name  python  mysql  Previous Geekions  CodeKata Score  \\\n",
      "3         Mugunthan S   100.0   47.0              10610           10610   \n",
      "85            Chandru     0.0    0.0              14150           14490   \n",
      "86  Ganesh Ramkumar R    -1.0   24.0               8790           10790   \n",
      "87    Bodipudi Harini    -1.0   35.0              10040           10040   \n",
      "\n",
      "                                   Department  Rising  python_en  \\\n",
      "3            Computer Science and Engineering       0        NaN   \n",
      "85           Computer Science and Engineering     340       20.0   \n",
      "86           Computer Science and Engineering    2000       55.0   \n",
      "87  Electronics and Communication Engineering       0        0.0   \n",
      "\n",
      "    computational_thinking  \n",
      "3                      NaN  \n",
      "85                     0.0  \n",
      "86                     6.0  \n",
      "87                    -1.0  \n"
     ]
    }
   ],
   "source": [
    "# if 10000<codekata score<15000 (Reached_expectations.csv)\n",
    "df2=df[(df['CodeKata Score']>10000) & (df['CodeKata Score']<15000)]\n",
    "print(df2)"
   ]
  },
  {
   "cell_type": "code",
   "execution_count": 26,
   "id": "277ced57",
   "metadata": {},
   "outputs": [],
   "source": [
    "df2.to_csv('Reached expectations.csv',index=False)"
   ]
  },
  {
   "cell_type": "code",
   "execution_count": 27,
   "id": "db08c28b",
   "metadata": {},
   "outputs": [
    {
     "name": "stdout",
     "output_type": "stream",
     "text": [
      "                       Name  python  mysql  Previous Geekions  CodeKata Score  \\\n",
      "4               Sathammai.S   100.0    8.0               8980            8980   \n",
      "5              NIVEESHWAR S   100.0    0.0               8200            8200   \n",
      "6             KALAIARASAN K    85.0   47.0               7750            7880   \n",
      "7      MOHAMED ZUBAIR AHMED    82.0    4.0               7020            7020   \n",
      "88                VIINU V P    -1.0   24.0               9150            9150   \n",
      "89               Poojitha Y     0.0   35.0               7210            8970   \n",
      "90   Gowtham Chandrasekaran    -1.0    0.0               7250            8950   \n",
      "91                Gowtham R    -1.0    4.0               8650            8650   \n",
      "92                 shifak N    58.0    0.0               5180            8320   \n",
      "93                  Balaji     -1.0   20.0               6170            8160   \n",
      "94                 Rushitha    -1.0   62.0               7470            8090   \n",
      "95     Balaraman Muthupandi    -1.0    0.0               7670            8050   \n",
      "96                 JPradhap   100.0    0.0               7340            8030   \n",
      "97            SRIRAMKUMAR B    -1.0    0.0               6400            7940   \n",
      "98                Praneetha    -1.0  100.0               7170            7730   \n",
      "99              Rahul Raj K    -1.0    0.0               6280            7640   \n",
      "100                 Guhan S    -1.0   35.0               7310            7630   \n",
      "101            Suryarajan S    -1.0   31.0               6710            7550   \n",
      "\n",
      "                                    Department  Rising  python_en  \\\n",
      "4             Computer Science and Engineering       0        NaN   \n",
      "5             Computer Science and Engineering       0        NaN   \n",
      "6    Electronics and Communication Engineering     130        NaN   \n",
      "7             Computer Science and Engineering       0        NaN   \n",
      "88      Electronics and Electrical Engineering       0      100.0   \n",
      "89            Computer Science and Engineering    1760       78.0   \n",
      "90            Computer Science and Engineering    1700        0.0   \n",
      "91   Electronics and Communication Engineering       0       60.0   \n",
      "92      Electronics and Electrical Engineering    3140        0.0   \n",
      "93      Electronics and Electrical Engineering    1990      100.0   \n",
      "94            Computer Science and Engineering     620       15.0   \n",
      "95            Computer Science and Engineering     380        9.0   \n",
      "96      Electronics and Electrical Engineering     690        0.0   \n",
      "97            Computer Science and Engineering    1540        0.0   \n",
      "98   Electronics and Communication Engineering     560       23.0   \n",
      "99            Computer Science and Engineering    1360        0.0   \n",
      "100  Electronics and Communication Engineering     320       72.0   \n",
      "101           Computer Science and Engineering     840       63.0   \n",
      "\n",
      "     computational_thinking  \n",
      "4                       NaN  \n",
      "5                       NaN  \n",
      "6                       NaN  \n",
      "7                       NaN  \n",
      "88                     -1.0  \n",
      "89                      0.0  \n",
      "90                      3.0  \n",
      "91                      6.0  \n",
      "92                      0.0  \n",
      "93                      0.0  \n",
      "94                      9.0  \n",
      "95                      0.0  \n",
      "96                      0.0  \n",
      "97                      0.0  \n",
      "98                     -1.0  \n",
      "99                      0.0  \n",
      "100                    39.0  \n",
      "101                     0.0  \n"
     ]
    }
   ],
   "source": [
    "#if 7000<codekata score<10000 (Needs_Improvement.csv)\n",
    "df3=df[(df['CodeKata Score']>7000) & (df['CodeKata Score']<10000)]\n",
    "print(df3)"
   ]
  },
  {
   "cell_type": "code",
   "execution_count": 28,
   "id": "6e0cf190",
   "metadata": {},
   "outputs": [],
   "source": [
    "df3.to_csv('Needs_Improvement.csv',index=False)"
   ]
  },
  {
   "cell_type": "code",
   "execution_count": 30,
   "id": "4d345b13",
   "metadata": {},
   "outputs": [
    {
     "name": "stdout",
     "output_type": "stream",
     "text": [
      "                Name  python  mysql  Previous Geekions  CodeKata Score  \\\n",
      "8         J.SUGANTHI    27.0  50.00               5860            5860   \n",
      "9       thamizhpaana    29.0   0.00               5500            5500   \n",
      "10   Iyappan Samiraj    50.0  24.00               5400            5400   \n",
      "11      Ponniyamma.R   100.0  11.25               5380            5380   \n",
      "12         SABAPATHI   100.0   0.00               5280            5280   \n",
      "..               ...     ...    ...                ...             ...   \n",
      "114    praveen raj j    24.0   0.00               2380            2380   \n",
      "115       AMARNATH D    -1.0  12.00               1890            1890   \n",
      "116             bala    32.0   0.00               1720            1720   \n",
      "117             XY Z    -1.0  -1.00                  0               0   \n",
      "118        Hariharan    -1.0  -1.00                  0               0   \n",
      "\n",
      "                                    Department  Rising  python_en  \\\n",
      "8    Electronics and Communication Engineering       0        NaN   \n",
      "9             Computer Science and Engineering       0        NaN   \n",
      "10   Electronics and Communication Engineering       0        NaN   \n",
      "11            Computer Science and Engineering       0        NaN   \n",
      "12            Computer Science and Engineering       0        NaN   \n",
      "..                                         ...     ...        ...   \n",
      "114           Computer Science and Engineering       0       -1.0   \n",
      "115  Electronics and Communication Engineering       0       52.0   \n",
      "116  Electronics and Communication Engineering       0       49.0   \n",
      "117           Computer Science and Engineering       0       20.0   \n",
      "118           Computer Science and Engineering       0       -1.0   \n",
      "\n",
      "     computational_thinking  \n",
      "8                       NaN  \n",
      "9                       NaN  \n",
      "10                      NaN  \n",
      "11                      NaN  \n",
      "12                      NaN  \n",
      "..                      ...  \n",
      "114                     0.0  \n",
      "115                    -1.0  \n",
      "116                    -1.0  \n",
      "117                    -1.0  \n",
      "118                     0.0  \n",
      "\n",
      "[93 rows x 9 columns]\n"
     ]
    }
   ],
   "source": [
    "# if codekate score < 7000 (Unsatisfactory.csv)\n",
    "df4=df[(df['CodeKata Score']<7000)]\n",
    "print(df4)\n"
   ]
  },
  {
   "cell_type": "code",
   "execution_count": 31,
   "id": "55d9d567",
   "metadata": {},
   "outputs": [],
   "source": [
    "df4.to_csv('Unsatisfactory.csv',index=False)"
   ]
  },
  {
   "cell_type": "code",
   "execution_count": 6,
   "id": "3e64c5e7",
   "metadata": {},
   "outputs": [
    {
     "name": "stdout",
     "output_type": "stream",
     "text": [
      "3842.3529411764707\n"
     ]
    }
   ],
   "source": [
    "# Average or mean of previous week geekions vs this week geekions (i.e Previous Geekions vs CodeKata Score)\n",
    "previous_geekions_avg=df['Previous Geekions'].mean()\n",
    "print(previous_geekions_avg)"
   ]
  },
  {
   "cell_type": "code",
   "execution_count": 7,
   "id": "ff25cc40",
   "metadata": {},
   "outputs": [
    {
     "name": "stdout",
     "output_type": "stream",
     "text": [
      "4051.764705882353\n"
     ]
    }
   ],
   "source": [
    "# codekata score average\n",
    "codekata_avg=df['CodeKata Score'].mean()\n",
    "print(codekata_avg)"
   ]
  },
  {
   "cell_type": "code",
   "execution_count": 28,
   "id": "c48620e6",
   "metadata": {},
   "outputs": [
    {
     "name": "stdout",
     "output_type": "stream",
     "text": [
      "              Name  python  mysql  Previous Geekions  CodeKata Score  \\\n",
      "0        A.Dharani    82.0   20.0              24500           24500   \n",
      "1      V.JEEVITHA     82.0   20.0              21740           21740   \n",
      "2      HEMAVATHI.R   100.0  100.0              19680           19680   \n",
      "3      Mugunthan S   100.0   47.0              10610           10610   \n",
      "4      Sathammai.S   100.0    8.0               8980            8980   \n",
      "..             ...     ...    ...                ...             ...   \n",
      "114  praveen raj j    24.0    0.0               2380            2380   \n",
      "115     AMARNATH D    -1.0   12.0               1890            1890   \n",
      "116           bala    32.0    0.0               1720            1720   \n",
      "117           XY Z    -1.0   -1.0                  0               0   \n",
      "118      Hariharan    -1.0   -1.0                  0               0   \n",
      "\n",
      "                                    Department  Rising  python_en  \\\n",
      "0             Computer Science and Engineering       0        NaN   \n",
      "1             Computer Science and Engineering       0        NaN   \n",
      "2             Computer Science and Engineering       0        NaN   \n",
      "3             Computer Science and Engineering       0        NaN   \n",
      "4             Computer Science and Engineering       0        NaN   \n",
      "..                                         ...     ...        ...   \n",
      "114           Computer Science and Engineering       0       -1.0   \n",
      "115  Electronics and Communication Engineering       0       52.0   \n",
      "116  Electronics and Communication Engineering       0       49.0   \n",
      "117           Computer Science and Engineering       0       20.0   \n",
      "118           Computer Science and Engineering       0       -1.0   \n",
      "\n",
      "     computational_thinking  avg_previous_geekions_codekata_score  \n",
      "0                       NaN                               24500.0  \n",
      "1                       NaN                               21740.0  \n",
      "2                       NaN                               19680.0  \n",
      "3                       NaN                               10610.0  \n",
      "4                       NaN                                8980.0  \n",
      "..                      ...                                   ...  \n",
      "114                     0.0                                2380.0  \n",
      "115                    -1.0                                1890.0  \n",
      "116                    -1.0                                1720.0  \n",
      "117                    -1.0                                   0.0  \n",
      "118                     0.0                                   0.0  \n",
      "\n",
      "[119 rows x 10 columns]\n"
     ]
    }
   ],
   "source": [
    "df['avg_previous_geekions_codekata_score']=df[['CodeKata Score','Previous Geekions']].mean(axis=1)\n",
    "print(df)"
   ]
  },
  {
   "cell_type": "code",
   "execution_count": 11,
   "id": "d4662765",
   "metadata": {},
   "outputs": [
    {
     "name": "stdout",
     "output_type": "stream",
     "text": [
      "119\n"
     ]
    }
   ],
   "source": [
    "# No of students participated\n",
    "no_of_students=df['Name'].count()\n",
    "print(no_of_students)"
   ]
  },
  {
   "cell_type": "code",
   "execution_count": 26,
   "id": "e3635362",
   "metadata": {},
   "outputs": [
    {
     "name": "stdout",
     "output_type": "stream",
     "text": [
      "23.5\n"
     ]
    }
   ],
   "source": [
    "#Average completion of python course or my_sql or python english or computational thinking\n",
    "avg_course_mysql=df['mysql'].mean()\n",
    "print(avg_course_mysql)\n"
   ]
  },
  {
   "cell_type": "code",
   "execution_count": 3,
   "id": "30a234a2",
   "metadata": {},
   "outputs": [
    {
     "name": "stdout",
     "output_type": "stream",
     "text": [
      "                  Name  python  mysql  Previous Geekions  CodeKata Score  \\\n",
      "92            shifak N    58.0    0.0               5180            8320   \n",
      "102     Narasimhan Y L    -1.0    0.0               4800            6800   \n",
      "86   Ganesh Ramkumar R    -1.0   24.0               8790           10790   \n",
      "\n",
      "                                 Department  Rising  python_en  \\\n",
      "92   Electronics and Electrical Engineering    3140        0.0   \n",
      "102        Computer Science and Engineering    2000       -1.0   \n",
      "86         Computer Science and Engineering    2000       55.0   \n",
      "\n",
      "     computational_thinking  \n",
      "92                      0.0  \n",
      "102                     0.0  \n",
      "86                      6.0  \n"
     ]
    }
   ],
   "source": [
    "#rising star of the week (top 3 candidate who performed well in that particular week)\n",
    "rising_star=df.sort_values(by=['Rising'],ascending=False)\n",
    "print(rising_star.head(3))"
   ]
  },
  {
   "cell_type": "code",
   "execution_count": 12,
   "id": "7e16db22",
   "metadata": {},
   "outputs": [
    {
     "data": {
      "text/html": [
       "<div>\n",
       "<style scoped>\n",
       "    .dataframe tbody tr th:only-of-type {\n",
       "        vertical-align: middle;\n",
       "    }\n",
       "\n",
       "    .dataframe tbody tr th {\n",
       "        vertical-align: top;\n",
       "    }\n",
       "\n",
       "    .dataframe thead th {\n",
       "        text-align: right;\n",
       "    }\n",
       "</style>\n",
       "<table border=\"1\" class=\"dataframe\">\n",
       "  <thead>\n",
       "    <tr style=\"text-align: right;\">\n",
       "      <th></th>\n",
       "      <th>Name</th>\n",
       "      <th>python</th>\n",
       "      <th>mysql</th>\n",
       "      <th>Previous Geekions</th>\n",
       "      <th>CodeKata Score</th>\n",
       "      <th>Department</th>\n",
       "      <th>Rising</th>\n",
       "      <th>python_en</th>\n",
       "      <th>computational_thinking</th>\n",
       "      <th>last_week_geekions</th>\n",
       "    </tr>\n",
       "  </thead>\n",
       "  <tbody>\n",
       "    <tr>\n",
       "      <th>92</th>\n",
       "      <td>shifak N</td>\n",
       "      <td>58.0</td>\n",
       "      <td>0.0</td>\n",
       "      <td>5180</td>\n",
       "      <td>8320</td>\n",
       "      <td>Electronics and Electrical Engineering</td>\n",
       "      <td>3140</td>\n",
       "      <td>0.0</td>\n",
       "      <td>0.0</td>\n",
       "      <td>3140</td>\n",
       "    </tr>\n",
       "    <tr>\n",
       "      <th>102</th>\n",
       "      <td>Narasimhan Y L</td>\n",
       "      <td>-1.0</td>\n",
       "      <td>0.0</td>\n",
       "      <td>4800</td>\n",
       "      <td>6800</td>\n",
       "      <td>Computer Science and Engineering</td>\n",
       "      <td>2000</td>\n",
       "      <td>-1.0</td>\n",
       "      <td>0.0</td>\n",
       "      <td>2000</td>\n",
       "    </tr>\n",
       "    <tr>\n",
       "      <th>86</th>\n",
       "      <td>Ganesh Ramkumar R</td>\n",
       "      <td>-1.0</td>\n",
       "      <td>24.0</td>\n",
       "      <td>8790</td>\n",
       "      <td>10790</td>\n",
       "      <td>Computer Science and Engineering</td>\n",
       "      <td>2000</td>\n",
       "      <td>55.0</td>\n",
       "      <td>6.0</td>\n",
       "      <td>2000</td>\n",
       "    </tr>\n",
       "  </tbody>\n",
       "</table>\n",
       "</div>"
      ],
      "text/plain": [
       "                  Name  python  mysql  Previous Geekions  CodeKata Score  \\\n",
       "92            shifak N    58.0    0.0               5180            8320   \n",
       "102     Narasimhan Y L    -1.0    0.0               4800            6800   \n",
       "86   Ganesh Ramkumar R    -1.0   24.0               8790           10790   \n",
       "\n",
       "                                 Department  Rising  python_en  \\\n",
       "92   Electronics and Electrical Engineering    3140        0.0   \n",
       "102        Computer Science and Engineering    2000       -1.0   \n",
       "86         Computer Science and Engineering    2000       55.0   \n",
       "\n",
       "     computational_thinking  last_week_geekions  \n",
       "92                      0.0                3140  \n",
       "102                     0.0                2000  \n",
       "86                      6.0                2000  "
      ]
     },
     "execution_count": 12,
     "metadata": {},
     "output_type": "execute_result"
    }
   ],
   "source": [
    "# Shining stars of the week (top 3 candidates who has highest geekions)\n",
    "df['last_week_geekions']=df['CodeKata Score']-df['Previous Geekions']\n",
    "shining_stars=df.sort_values(by=['last_week_geekions'],ascending=False)\n",
    "shining_stars.head(3)"
   ]
  },
  {
   "cell_type": "code",
   "execution_count": 18,
   "id": "13054c6e",
   "metadata": {},
   "outputs": [
    {
     "data": {
      "text/html": [
       "<div>\n",
       "<style scoped>\n",
       "    .dataframe tbody tr th:only-of-type {\n",
       "        vertical-align: middle;\n",
       "    }\n",
       "\n",
       "    .dataframe tbody tr th {\n",
       "        vertical-align: top;\n",
       "    }\n",
       "\n",
       "    .dataframe thead th {\n",
       "        text-align: right;\n",
       "    }\n",
       "</style>\n",
       "<table border=\"1\" class=\"dataframe\">\n",
       "  <thead>\n",
       "    <tr style=\"text-align: right;\">\n",
       "      <th></th>\n",
       "      <th>Name</th>\n",
       "      <th>python</th>\n",
       "      <th>mysql</th>\n",
       "      <th>Previous Geekions</th>\n",
       "      <th>CodeKata Score</th>\n",
       "      <th>Rising</th>\n",
       "      <th>python_en</th>\n",
       "      <th>computational_thinking</th>\n",
       "      <th>avg_previous_geekions_codekata_score</th>\n",
       "    </tr>\n",
       "    <tr>\n",
       "      <th>Department</th>\n",
       "      <th></th>\n",
       "      <th></th>\n",
       "      <th></th>\n",
       "      <th></th>\n",
       "      <th></th>\n",
       "      <th></th>\n",
       "      <th></th>\n",
       "      <th></th>\n",
       "      <th></th>\n",
       "    </tr>\n",
       "  </thead>\n",
       "  <tbody>\n",
       "    <tr>\n",
       "      <th>Computer Science and Engineering</th>\n",
       "      <td>A.Dharani</td>\n",
       "      <td>82.0</td>\n",
       "      <td>20.0</td>\n",
       "      <td>24500</td>\n",
       "      <td>24500</td>\n",
       "      <td>0</td>\n",
       "      <td>20.0</td>\n",
       "      <td>0.0</td>\n",
       "      <td>24500.0</td>\n",
       "    </tr>\n",
       "    <tr>\n",
       "      <th>Electronics and Communication Engineering</th>\n",
       "      <td>KALAIARASAN K</td>\n",
       "      <td>85.0</td>\n",
       "      <td>47.0</td>\n",
       "      <td>7750</td>\n",
       "      <td>7880</td>\n",
       "      <td>130</td>\n",
       "      <td>0.0</td>\n",
       "      <td>-1.0</td>\n",
       "      <td>7815.0</td>\n",
       "    </tr>\n",
       "    <tr>\n",
       "      <th>Electronics and Electrical Engineering</th>\n",
       "      <td>k.parvathi</td>\n",
       "      <td>100.0</td>\n",
       "      <td>100.0</td>\n",
       "      <td>260</td>\n",
       "      <td>260</td>\n",
       "      <td>0</td>\n",
       "      <td>0.0</td>\n",
       "      <td>9.0</td>\n",
       "      <td>260.0</td>\n",
       "    </tr>\n",
       "  </tbody>\n",
       "</table>\n",
       "</div>"
      ],
      "text/plain": [
       "                                                    Name  python  mysql  \\\n",
       "Department                                                                \n",
       "Computer Science and Engineering               A.Dharani    82.0   20.0   \n",
       "Electronics and Communication Engineering  KALAIARASAN K    85.0   47.0   \n",
       "Electronics and Electrical Engineering        k.parvathi   100.0  100.0   \n",
       "\n",
       "                                           Previous Geekions  CodeKata Score  \\\n",
       "Department                                                                     \n",
       "Computer Science and Engineering                       24500           24500   \n",
       "Electronics and Communication Engineering               7750            7880   \n",
       "Electronics and Electrical Engineering                   260             260   \n",
       "\n",
       "                                           Rising  python_en  \\\n",
       "Department                                                     \n",
       "Computer Science and Engineering                0       20.0   \n",
       "Electronics and Communication Engineering     130        0.0   \n",
       "Electronics and Electrical Engineering          0        0.0   \n",
       "\n",
       "                                           computational_thinking  \\\n",
       "Department                                                          \n",
       "Computer Science and Engineering                              0.0   \n",
       "Electronics and Communication Engineering                    -1.0   \n",
       "Electronics and Electrical Engineering                        9.0   \n",
       "\n",
       "                                           avg_previous_geekions_codekata_score  \n",
       "Department                                                                       \n",
       "Computer Science and Engineering                                        24500.0  \n",
       "Electronics and Communication Engineering                                7815.0  \n",
       "Electronics and Electrical Engineering                                    260.0  "
      ]
     },
     "execution_count": 18,
     "metadata": {},
     "output_type": "execute_result"
    }
   ],
   "source": [
    "# Department wise codekata performence (pie chart)\n",
    "dept_wise=df.groupby('Department')\n",
    "# Lets print he first entries of all the group formed\n",
    "dept_wise.first()\n"
   ]
  },
  {
   "cell_type": "code",
   "execution_count": 19,
   "id": "c3af2232",
   "metadata": {},
   "outputs": [
    {
     "name": "stdout",
     "output_type": "stream",
     "text": [
      "                  Name  python  mysql  Previous Geekions  CodeKata Score  \\\n",
      "0            A.Dharani    82.0   20.0              24500           24500   \n",
      "1          V.JEEVITHA     82.0   20.0              21740           21740   \n",
      "2          HEMAVATHI.R   100.0  100.0              19680           19680   \n",
      "3          Mugunthan S   100.0   47.0              10610           10610   \n",
      "4          Sathammai.S   100.0    8.0               8980            8980   \n",
      "..                 ...     ...    ...                ...             ...   \n",
      "111  Vimalesh Fernando    -1.0    0.0               4170            4170   \n",
      "112      M.Karthikeyan    -1.0    4.0               4020            4020   \n",
      "114      praveen raj j    24.0    0.0               2380            2380   \n",
      "117               XY Z    -1.0   -1.0                  0               0   \n",
      "118          Hariharan    -1.0   -1.0                  0               0   \n",
      "\n",
      "                           Department  Rising  python_en  \\\n",
      "0    Computer Science and Engineering       0        NaN   \n",
      "1    Computer Science and Engineering       0        NaN   \n",
      "2    Computer Science and Engineering       0        NaN   \n",
      "3    Computer Science and Engineering       0        NaN   \n",
      "4    Computer Science and Engineering       0        NaN   \n",
      "..                                ...     ...        ...   \n",
      "111  Computer Science and Engineering       0        0.0   \n",
      "112  Computer Science and Engineering       0        0.0   \n",
      "114  Computer Science and Engineering       0       -1.0   \n",
      "117  Computer Science and Engineering       0       20.0   \n",
      "118  Computer Science and Engineering       0       -1.0   \n",
      "\n",
      "     computational_thinking  avg_previous_geekions_codekata_score  \n",
      "0                       NaN                               24500.0  \n",
      "1                       NaN                               21740.0  \n",
      "2                       NaN                               19680.0  \n",
      "3                       NaN                               10610.0  \n",
      "4                       NaN                                8980.0  \n",
      "..                      ...                                   ...  \n",
      "111                     0.0                                4170.0  \n",
      "112                     6.0                                4020.0  \n",
      "114                     0.0                                2380.0  \n",
      "117                    -1.0                                   0.0  \n",
      "118                     0.0                                   0.0  \n",
      "\n",
      "[63 rows x 10 columns]\n"
     ]
    }
   ],
   "source": [
    "# Department wise codekata performence (pie chart)\n",
    "\n",
    "print(dept_wise.get_group('Computer Science and Engineering'))"
   ]
  },
  {
   "cell_type": "code",
   "execution_count": 21,
   "id": "60b6a44e",
   "metadata": {},
   "outputs": [
    {
     "name": "stdout",
     "output_type": "stream",
     "text": [
      "                           Name  python   mysql  Previous Geekions  \\\n",
      "6                 KALAIARASAN K    85.0   47.00               7750   \n",
      "8                    J.SUGANTHI    27.0   50.00               5860   \n",
      "10              Iyappan Samiraj    50.0   24.00               5400   \n",
      "14              Melvin Dukles.R    56.0   20.00               4800   \n",
      "17                  v.vithyasri   100.0   12.00               4370   \n",
      "18           Abirami Anbazhagan   100.0    0.00               4320   \n",
      "21                 kamalishwari    32.0   20.00               3665   \n",
      "25                    Tpavithra   100.0   24.00               3200   \n",
      "27                     shankari    87.5   20.00               3000   \n",
      "32                   SarumathiR    16.0   35.00               2240   \n",
      "35                     Barath D    74.0    4.00               1910   \n",
      "39                      vignesh    85.0    0.00               1740   \n",
      "42                    ABIRAMI.S    82.0    0.00               1580   \n",
      "43                   v.gowsalya    53.0   50.00               1440   \n",
      "46   siva sai perumal polisetti   100.0   12.00               1240   \n",
      "47                  MadhumathiB    16.0   35.00               1130   \n",
      "49                     bavithra     0.0  100.00               1020   \n",
      "50                    Deivani.S     0.0   86.25                980   \n",
      "51                    Nivetha.S     0.0   50.00                950   \n",
      "52                  GUNAMATHI.S     0.0   77.00                850   \n",
      "53                    RANJITH.R   100.0    0.00                800   \n",
      "54                     u.abarna     3.0   39.00                770   \n",
      "55                 kaviyarasi.k    16.0   28.75                760   \n",
      "57                      M.PRIYA    43.0   24.00                690   \n",
      "58                 M.Nisha@mary    11.0   20.00                580   \n",
      "60                 muvendiran.m   100.0    7.50                410   \n",
      "63                     E.Nalini     3.0    0.00                270   \n",
      "67                     gousalya    56.0   27.00                170   \n",
      "68                  sivaranjini     0.0    3.75                160   \n",
      "70                    vignesh B    82.0   20.00                120   \n",
      "73               rajesh kumar.r    30.0    0.00                100   \n",
      "87              Bodipudi Harini    -1.0   35.00              10040   \n",
      "91                    Gowtham R    -1.0    4.00               8650   \n",
      "98                    Praneetha    -1.0  100.00               7170   \n",
      "100                     Guhan S    -1.0   35.00               7310   \n",
      "108               P.GOVARDHANAN    -1.0    0.00               5050   \n",
      "113                   Abishak s    -1.0   35.00               3220   \n",
      "115                  AMARNATH D    -1.0   12.00               1890   \n",
      "116                        bala    32.0    0.00               1720   \n",
      "\n",
      "     CodeKata Score                                 Department  Rising  \\\n",
      "6              7880  Electronics and Communication Engineering     130   \n",
      "8              5860  Electronics and Communication Engineering       0   \n",
      "10             5400  Electronics and Communication Engineering       0   \n",
      "14             4800  Electronics and Communication Engineering       0   \n",
      "17             4370  Electronics and Communication Engineering       0   \n",
      "18             4320  Electronics and Communication Engineering       0   \n",
      "21             3665  Electronics and Communication Engineering       0   \n",
      "25             3200  Electronics and Communication Engineering       0   \n",
      "27             3000  Electronics and Communication Engineering       0   \n",
      "32             2240  Electronics and Communication Engineering       0   \n",
      "35             1910  Electronics and Communication Engineering       0   \n",
      "39             1740  Electronics and Communication Engineering       0   \n",
      "42             1580  Electronics and Communication Engineering       0   \n",
      "43             1440  Electronics and Communication Engineering       0   \n",
      "46             1240  Electronics and Communication Engineering       0   \n",
      "47             1130  Electronics and Communication Engineering       0   \n",
      "49             1020  Electronics and Communication Engineering       0   \n",
      "50              980  Electronics and Communication Engineering       0   \n",
      "51              950  Electronics and Communication Engineering       0   \n",
      "52              850  Electronics and Communication Engineering       0   \n",
      "53              800  Electronics and Communication Engineering       0   \n",
      "54              770  Electronics and Communication Engineering       0   \n",
      "55              760  Electronics and Communication Engineering       0   \n",
      "57              690  Electronics and Communication Engineering       0   \n",
      "58              580  Electronics and Communication Engineering       0   \n",
      "60              410  Electronics and Communication Engineering       0   \n",
      "63              270  Electronics and Communication Engineering       0   \n",
      "67              170  Electronics and Communication Engineering       0   \n",
      "68              160  Electronics and Communication Engineering       0   \n",
      "70              120  Electronics and Communication Engineering       0   \n",
      "73              100  Electronics and Communication Engineering       0   \n",
      "87            10040  Electronics and Communication Engineering       0   \n",
      "91             8650  Electronics and Communication Engineering       0   \n",
      "98             7730  Electronics and Communication Engineering     560   \n",
      "100            7630  Electronics and Communication Engineering     320   \n",
      "108            5050  Electronics and Communication Engineering       0   \n",
      "113            3220  Electronics and Communication Engineering       0   \n",
      "115            1890  Electronics and Communication Engineering       0   \n",
      "116            1720  Electronics and Communication Engineering       0   \n",
      "\n",
      "     python_en  computational_thinking  avg_previous_geekions_codekata_score  \n",
      "6          NaN                     NaN                                7815.0  \n",
      "8          NaN                     NaN                                5860.0  \n",
      "10         NaN                     NaN                                5400.0  \n",
      "14         NaN                     NaN                                4800.0  \n",
      "17         NaN                     NaN                                4370.0  \n",
      "18         NaN                     NaN                                4320.0  \n",
      "21         NaN                     NaN                                3665.0  \n",
      "25         NaN                     NaN                                3200.0  \n",
      "27         NaN                     NaN                                3000.0  \n",
      "32         NaN                     NaN                                2240.0  \n",
      "35         NaN                     NaN                                1910.0  \n",
      "39         NaN                     NaN                                1740.0  \n",
      "42         NaN                     NaN                                1580.0  \n",
      "43         NaN                     NaN                                1440.0  \n",
      "46         NaN                     NaN                                1240.0  \n",
      "47         NaN                     NaN                                1130.0  \n",
      "49         NaN                     NaN                                1020.0  \n",
      "50         NaN                     NaN                                 980.0  \n",
      "51         NaN                     NaN                                 950.0  \n",
      "52         NaN                     NaN                                 850.0  \n",
      "53         NaN                     NaN                                 800.0  \n",
      "54         NaN                     NaN                                 770.0  \n",
      "55         NaN                     NaN                                 760.0  \n",
      "57         NaN                     NaN                                 690.0  \n",
      "58         NaN                     NaN                                 580.0  \n",
      "60         NaN                     NaN                                 410.0  \n",
      "63         NaN                     NaN                                 270.0  \n",
      "67         NaN                     NaN                                 170.0  \n",
      "68         NaN                     NaN                                 160.0  \n",
      "70         NaN                     NaN                                 120.0  \n",
      "73         NaN                     NaN                                 100.0  \n",
      "87         0.0                    -1.0                               10040.0  \n",
      "91        60.0                     6.0                                8650.0  \n",
      "98        23.0                    -1.0                                7450.0  \n",
      "100       72.0                    39.0                                7470.0  \n",
      "108       40.0                    -1.0                                5050.0  \n",
      "113       55.0                     6.0                                3220.0  \n",
      "115       52.0                    -1.0                                1890.0  \n",
      "116       49.0                    -1.0                                1720.0  \n"
     ]
    }
   ],
   "source": [
    "print(dept_wise.get_group('Electronics and Communication Engineering'))"
   ]
  },
  {
   "cell_type": "code",
   "execution_count": 23,
   "id": "f0bb6901",
   "metadata": {},
   "outputs": [
    {
     "name": "stdout",
     "output_type": "stream",
     "text": [
      "               Name  python  mysql  Previous Geekions  CodeKata Score  \\\n",
      "64       k.parvathi   100.0  100.0                260             260   \n",
      "71      m.keerthana    97.5    0.0                120             120   \n",
      "72       Subhashini   100.0    4.0                120             120   \n",
      "74  J.Bhuvaneshwari   100.0   20.0                100             100   \n",
      "75         santhosh    82.0   12.0                 60              60   \n",
      "77       J.JAYANTHI   100.0  100.0                 40              40   \n",
      "78     vikneshwaran   100.0    4.0                 40              40   \n",
      "79     KarthikeyanS    45.0    0.0                  0               0   \n",
      "80         BARATH.P    29.0    0.0                  0               0   \n",
      "81    N.Ajith kumar    82.0    0.0                  0               0   \n",
      "82     mohamed nabi     0.0    0.0                  0               0   \n",
      "83   yaser ahamed.A     0.0   27.0                  0               0   \n",
      "84    ASHOK KUMAR K   100.0   31.0              19400           19400   \n",
      "88        VIINU V P    -1.0   24.0               9150            9150   \n",
      "92         shifak N    58.0    0.0               5180            8320   \n",
      "93          Balaji     -1.0   20.0               6170            8160   \n",
      "96         JPradhap   100.0    0.0               7340            8030   \n",
      "\n",
      "                                Department  Rising  python_en  \\\n",
      "64  Electronics and Electrical Engineering       0        NaN   \n",
      "71  Electronics and Electrical Engineering       0        NaN   \n",
      "72  Electronics and Electrical Engineering       0        NaN   \n",
      "74  Electronics and Electrical Engineering       0        NaN   \n",
      "75  Electronics and Electrical Engineering       0        NaN   \n",
      "77  Electronics and Electrical Engineering       0        NaN   \n",
      "78  Electronics and Electrical Engineering       0        NaN   \n",
      "79  Electronics and Electrical Engineering       0        NaN   \n",
      "80  Electronics and Electrical Engineering       0        NaN   \n",
      "81  Electronics and Electrical Engineering       0        NaN   \n",
      "82  Electronics and Electrical Engineering       0        NaN   \n",
      "83  Electronics and Electrical Engineering       0        NaN   \n",
      "84  Electronics and Electrical Engineering       0        0.0   \n",
      "88  Electronics and Electrical Engineering       0      100.0   \n",
      "92  Electronics and Electrical Engineering    3140        0.0   \n",
      "93  Electronics and Electrical Engineering    1990      100.0   \n",
      "96  Electronics and Electrical Engineering     690        0.0   \n",
      "\n",
      "    computational_thinking  avg_previous_geekions_codekata_score  \n",
      "64                     NaN                                 260.0  \n",
      "71                     NaN                                 120.0  \n",
      "72                     NaN                                 120.0  \n",
      "74                     NaN                                 100.0  \n",
      "75                     NaN                                  60.0  \n",
      "77                     NaN                                  40.0  \n",
      "78                     NaN                                  40.0  \n",
      "79                     NaN                                   0.0  \n",
      "80                     NaN                                   0.0  \n",
      "81                     NaN                                   0.0  \n",
      "82                     NaN                                   0.0  \n",
      "83                     NaN                                   0.0  \n",
      "84                     9.0                               19400.0  \n",
      "88                    -1.0                                9150.0  \n",
      "92                     0.0                                6750.0  \n",
      "93                     0.0                                7165.0  \n",
      "96                     0.0                                7685.0  \n"
     ]
    }
   ],
   "source": [
    "print(dept_wise.get_group('Electronics and Electrical Engineering'))"
   ]
  },
  {
   "cell_type": "code",
   "execution_count": 17,
   "id": "c80d773f",
   "metadata": {},
   "outputs": [
    {
     "data": {
      "text/plain": [
       "Department\n",
       "Computer Science and Engineering             5079.761905\n",
       "Electronics and Communication Engineering    2777.820513\n",
       "Electronics and Electrical Engineering       3164.705882\n",
       "Name: CodeKata Score, dtype: float64"
      ]
     },
     "execution_count": 17,
     "metadata": {},
     "output_type": "execute_result"
    }
   ],
   "source": [
    "dept_wise=df.groupby('Department')['CodeKata Score'].mean()\n",
    "dept_wise\n"
   ]
  },
  {
   "cell_type": "code",
   "execution_count": 23,
   "id": "a69b0abf",
   "metadata": {},
   "outputs": [
    {
     "data": {
      "text/plain": [
       "<AxesSubplot:title={'center':'codekata performance by group'}, ylabel='CodeKata Score'>"
      ]
     },
     "execution_count": 23,
     "metadata": {},
     "output_type": "execute_result"
    },
    {
     "data": {
      "image/png": "[encoded data removed]",
      "text/plain": [
       "<Figure size 432x288 with 1 Axes>"
      ]
     },
     "metadata": {},
     "output_type": "display_data"
    }
   ],
   "source": [
    "# Department-wise codekata performance - Pie chart\n",
    "df.groupby('Department').sum().plot(kind='pie', y='CodeKata Score',autopct='%1.0f%%',\n",
    "                                colors = ['red', 'pink', 'steelblue'],\n",
    "                                title='codekata performance by group')"
   ]
  },
  {
   "cell_type": "code",
   "execution_count": null,
   "id": "b9684121",
   "metadata": {},
   "outputs": [],
   "source": []
  },
  {
   "cell_type": "code",
   "execution_count": 11,
   "id": "f4acfe67",
   "metadata": {},
   "outputs": [
    {
     "data": {
      "text/html": [
       "<div>\n",
       "<style scoped>\n",
       "    .dataframe tbody tr th:only-of-type {\n",
       "        vertical-align: middle;\n",
       "    }\n",
       "\n",
       "    .dataframe tbody tr th {\n",
       "        vertical-align: top;\n",
       "    }\n",
       "\n",
       "    .dataframe thead th {\n",
       "        text-align: right;\n",
       "    }\n",
       "</style>\n",
       "<table border=\"1\" class=\"dataframe\">\n",
       "  <thead>\n",
       "    <tr style=\"text-align: right;\">\n",
       "      <th></th>\n",
       "      <th></th>\n",
       "      <th>Name</th>\n",
       "      <th>python</th>\n",
       "      <th>mysql</th>\n",
       "      <th>Previous Geekions</th>\n",
       "      <th>CodeKata Score</th>\n",
       "      <th>Department</th>\n",
       "      <th>Rising</th>\n",
       "      <th>python_en</th>\n",
       "      <th>computational_thinking</th>\n",
       "    </tr>\n",
       "    <tr>\n",
       "      <th>Department</th>\n",
       "      <th></th>\n",
       "      <th></th>\n",
       "      <th></th>\n",
       "      <th></th>\n",
       "      <th></th>\n",
       "      <th></th>\n",
       "      <th></th>\n",
       "      <th></th>\n",
       "      <th></th>\n",
       "      <th></th>\n",
       "    </tr>\n",
       "  </thead>\n",
       "  <tbody>\n",
       "    <tr>\n",
       "      <th>Computer Science and Engineering</th>\n",
       "      <th>0</th>\n",
       "      <td>A.Dharani</td>\n",
       "      <td>82.0</td>\n",
       "      <td>20.0</td>\n",
       "      <td>24500</td>\n",
       "      <td>24500</td>\n",
       "      <td>Computer Science and Engineering</td>\n",
       "      <td>0</td>\n",
       "      <td>NaN</td>\n",
       "      <td>NaN</td>\n",
       "    </tr>\n",
       "    <tr>\n",
       "      <th>Electronics and Communication Engineering</th>\n",
       "      <th>87</th>\n",
       "      <td>Bodipudi Harini</td>\n",
       "      <td>-1.0</td>\n",
       "      <td>35.0</td>\n",
       "      <td>10040</td>\n",
       "      <td>10040</td>\n",
       "      <td>Electronics and Communication Engineering</td>\n",
       "      <td>0</td>\n",
       "      <td>0.0</td>\n",
       "      <td>-1.0</td>\n",
       "    </tr>\n",
       "    <tr>\n",
       "      <th>Electronics and Electrical Engineering</th>\n",
       "      <th>84</th>\n",
       "      <td>ASHOK KUMAR K</td>\n",
       "      <td>100.0</td>\n",
       "      <td>31.0</td>\n",
       "      <td>19400</td>\n",
       "      <td>19400</td>\n",
       "      <td>Electronics and Electrical Engineering</td>\n",
       "      <td>0</td>\n",
       "      <td>0.0</td>\n",
       "      <td>9.0</td>\n",
       "    </tr>\n",
       "  </tbody>\n",
       "</table>\n",
       "</div>"
      ],
      "text/plain": [
       "                                                         Name  python  mysql  \\\n",
       "Department                                                                     \n",
       "Computer Science and Engineering          0         A.Dharani    82.0   20.0   \n",
       "Electronics and Communication Engineering 87  Bodipudi Harini    -1.0   35.0   \n",
       "Electronics and Electrical Engineering    84    ASHOK KUMAR K   100.0   31.0   \n",
       "\n",
       "                                              Previous Geekions  \\\n",
       "Department                                                        \n",
       "Computer Science and Engineering          0               24500   \n",
       "Electronics and Communication Engineering 87              10040   \n",
       "Electronics and Electrical Engineering    84              19400   \n",
       "\n",
       "                                              CodeKata Score  \\\n",
       "Department                                                     \n",
       "Computer Science and Engineering          0            24500   \n",
       "Electronics and Communication Engineering 87           10040   \n",
       "Electronics and Electrical Engineering    84           19400   \n",
       "\n",
       "                                                                             Department  \\\n",
       "Department                                                                                \n",
       "Computer Science and Engineering          0            Computer Science and Engineering   \n",
       "Electronics and Communication Engineering 87  Electronics and Communication Engineering   \n",
       "Electronics and Electrical Engineering    84     Electronics and Electrical Engineering   \n",
       "\n",
       "                                              Rising  python_en  \\\n",
       "Department                                                        \n",
       "Computer Science and Engineering          0        0        NaN   \n",
       "Electronics and Communication Engineering 87       0        0.0   \n",
       "Electronics and Electrical Engineering    84       0        0.0   \n",
       "\n",
       "                                              computational_thinking  \n",
       "Department                                                            \n",
       "Computer Science and Engineering          0                      NaN  \n",
       "Electronics and Communication Engineering 87                    -1.0  \n",
       "Electronics and Electrical Engineering    84                     9.0  "
      ]
     },
     "execution_count": 11,
     "metadata": {},
     "output_type": "execute_result"
    }
   ],
   "source": [
    "T=df.groupby('Department').apply(lambda x : x.sort_values(by = 'CodeKata Score', ascending = False).head(1))\n",
    "T"
   ]
  },
  {
   "cell_type": "code",
   "execution_count": null,
   "id": "2391d931",
   "metadata": {},
   "outputs": [],
   "source": []
  },
  {
   "cell_type": "code",
   "execution_count": null,
   "id": "abb67dcf",
   "metadata": {},
   "outputs": [],
   "source": []
  },
  {
   "cell_type": "code",
   "execution_count": null,
   "id": "8bf6f80d",
   "metadata": {},
   "outputs": [],
   "source": []
  },
  {
   "cell_type": "code",
   "execution_count": 20,
   "id": "d8461e43",
   "metadata": {},
   "outputs": [
    {
     "data": {
      "text/plain": [
       "['Computer Science and Engineering',\n",
       " 'Electronics and Communication Engineering',\n",
       " 'Electronics and Electrical Engineering']"
      ]
     },
     "execution_count": 20,
     "metadata": {},
     "output_type": "execute_result"
    }
   ],
   "source": [
    "t=[]\n",
    "for i in T['Department']:\n",
    "    t.append(i)\n",
    "t"
   ]
  },
  {
   "cell_type": "code",
   "execution_count": 22,
   "id": "b9cd63bd",
   "metadata": {},
   "outputs": [
    {
     "data": {
      "text/plain": [
       "['A.Dharani', 'Bodipudi Harini', 'ASHOK KUMAR K']"
      ]
     },
     "execution_count": 22,
     "metadata": {},
     "output_type": "execute_result"
    }
   ],
   "source": [
    "n=[]\n",
    "for i in T['Name']:\n",
    "    n.append(i)\n",
    "n"
   ]
  },
  {
   "cell_type": "code",
   "execution_count": 24,
   "id": "396e3b33",
   "metadata": {},
   "outputs": [
    {
     "data": {
      "text/plain": [
       "['Computer Science and Engineering A.Dharani',\n",
       " 'Electronics and Communication Engineering Bodipudi Harini',\n",
       " 'Electronics and Electrical Engineering ASHOK KUMAR K']"
      ]
     },
     "execution_count": 24,
     "metadata": {},
     "output_type": "execute_result"
    }
   ],
   "source": [
    "nl=[]\n",
    "for i,j in zip(t,n):\n",
    "    c=i+\" \"+j\n",
    "    nl.append(c)\n",
    "nl\n",
    "    "
   ]
  },
  {
   "cell_type": "code",
   "execution_count": 25,
   "id": "18630ce8",
   "metadata": {},
   "outputs": [
    {
     "data": {
      "image/png": "[encoded data removed]",
      "text/plain": [
       "<Figure size 640x480 with 1 Axes>"
      ]
     },
     "metadata": {},
     "output_type": "display_data"
    }
   ],
   "source": [
    "import matplotlib.pyplot as plt\n",
    "import numpy as np\n",
    "plt.rcdefaults()\n",
    "fig, ax = plt.subplots()\n",
    "y_pos = np.arange(len(T['Name']))\n",
    "ax.barh(T['Department'], T['CodeKata Score'],align='center')\n",
    "ax.set_yticks(y_pos, labels=nl)\n",
    "ax.set_xlabel('Codekata Score')\n",
    "ax.set_title('Department wise toppers in codekata performance')\n",
    "\n",
    "plt.show()\n"
   ]
  },
  {
   "cell_type": "code",
   "execution_count": null,
   "id": "616f9759",
   "metadata": {},
   "outputs": [],
   "source": []
  }
 ],
 "metadata": {
  "kernelspec": {
   "display_name": "Python 3 (ipykernel)",
   "language": "python",
   "name": "python3"
  },
  "language_info": {
   "codemirror_mode": {
    "name": "ipython",
    "version": 3
   },
   "file_extension": ".py",
   "mimetype": "text/x-python",
   "name": "python",
   "nbconvert_exporter": "python",
   "pygments_lexer": "ipython3",
   "version": "3.9.12"
  }
 },
 "nbformat": 4,
 "nbformat_minor": 5
}
